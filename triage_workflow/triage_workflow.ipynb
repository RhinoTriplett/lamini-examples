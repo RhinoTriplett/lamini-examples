{
 "cells": [
  {
   "cell_type": "markdown",
   "metadata": {},
   "source": [
    "First let's install the Lamini Python SDK."
   ]
  },
  {
   "cell_type": "code",
   "execution_count": 1,
   "metadata": {},
   "outputs": [
    {
     "name": "stdout",
     "output_type": "stream",
     "text": [
      "Collecting lamini\n",
      "  Downloading lamini-3.2.2-15-py3-none-any.whl (696 kB)\n",
      "\u001b[2K     \u001b[90m━━━━━━━━━━━━━━━━━━━━━━━━━━━━━━━━━━━━━━━\u001b[0m \u001b[32m696.3/696.3 kB\u001b[0m \u001b[31m2.2 MB/s\u001b[0m eta \u001b[36m0:00:00\u001b[0ma \u001b[36m0:00:01\u001b[0m\n",
      "\u001b[?25hCollecting requests\n",
      "  Using cached requests-2.32.3-py3-none-any.whl (64 kB)\n",
      "Collecting tqdm\n",
      "  Using cached tqdm-4.67.1-py3-none-any.whl (78 kB)\n",
      "Collecting azure-storage-blob\n",
      "  Using cached azure_storage_blob-12.24.0-py3-none-any.whl (408 kB)\n",
      "Collecting aiohttp\n",
      "  Downloading aiohttp-3.11.10-cp310-cp310-macosx_11_0_arm64.whl (455 kB)\n",
      "\u001b[2K     \u001b[90m━━━━━━━━━━━━━━━━━━━━━━━━━━━━━━━━━━━━━━━\u001b[0m \u001b[32m455.4/455.4 kB\u001b[0m \u001b[31m5.2 MB/s\u001b[0m eta \u001b[36m0:00:00\u001b[0ma \u001b[36m0:00:01\u001b[0m\n",
      "\u001b[?25hCollecting numpy<2.0.0\n",
      "  Using cached numpy-1.26.4-cp310-cp310-macosx_11_0_arm64.whl (14.0 MB)\n",
      "Collecting scikit-learn\n",
      "  Using cached scikit_learn-1.5.2-cp310-cp310-macosx_12_0_arm64.whl (11.0 MB)\n",
      "Collecting jsonlines\n",
      "  Using cached jsonlines-4.0.0-py3-none-any.whl (8.7 kB)\n",
      "Collecting lamini-configuration[yaml]\n",
      "  Using cached lamini_configuration-0.8.3-py3-none-any.whl (22 kB)\n",
      "Collecting pandas\n",
      "  Using cached pandas-2.2.3-cp310-cp310-macosx_11_0_arm64.whl (11.3 MB)\n",
      "Collecting aiosignal>=1.1.2\n",
      "  Using cached aiosignal-1.3.1-py3-none-any.whl (7.6 kB)\n",
      "Collecting yarl<2.0,>=1.17.0\n",
      "  Using cached yarl-1.18.3-cp310-cp310-macosx_11_0_arm64.whl (92 kB)\n",
      "Collecting propcache>=0.2.0\n",
      "  Using cached propcache-0.2.1-cp310-cp310-macosx_11_0_arm64.whl (45 kB)\n",
      "Collecting frozenlist>=1.1.1\n",
      "  Using cached frozenlist-1.5.0-cp310-cp310-macosx_11_0_arm64.whl (52 kB)\n",
      "Collecting multidict<7.0,>=4.5\n",
      "  Using cached multidict-6.1.0-cp310-cp310-macosx_11_0_arm64.whl (29 kB)\n",
      "Collecting aiohappyeyeballs>=2.3.0\n",
      "  Using cached aiohappyeyeballs-2.4.4-py3-none-any.whl (14 kB)\n",
      "Collecting attrs>=17.3.0\n",
      "  Using cached attrs-24.2.0-py3-none-any.whl (63 kB)\n",
      "Collecting async-timeout<6.0,>=4.0\n",
      "  Using cached async_timeout-5.0.1-py3-none-any.whl (6.2 kB)\n",
      "Collecting isodate>=0.6.1\n",
      "  Using cached isodate-0.7.2-py3-none-any.whl (22 kB)\n",
      "Collecting azure-core>=1.30.0\n",
      "  Using cached azure_core-1.32.0-py3-none-any.whl (198 kB)\n",
      "Collecting cryptography>=2.1.4\n",
      "  Using cached cryptography-44.0.0-cp39-abi3-macosx_10_9_universal2.whl (6.5 MB)\n",
      "Requirement already satisfied: typing-extensions>=4.6.0 in /Users/bechols/.pyenv/versions/3.10.6/lib/python3.10/site-packages (from azure-storage-blob->lamini) (4.12.2)\n",
      "Collecting pyyaml<7.0,>=6.0\n",
      "  Using cached PyYAML-6.0.2-cp310-cp310-macosx_11_0_arm64.whl (171 kB)\n",
      "Collecting tzdata>=2022.7\n",
      "  Using cached tzdata-2024.2-py2.py3-none-any.whl (346 kB)\n",
      "Requirement already satisfied: python-dateutil>=2.8.2 in /Users/bechols/.pyenv/versions/3.10.6/lib/python3.10/site-packages (from pandas->lamini) (2.9.0.post0)\n",
      "Collecting pytz>=2020.1\n",
      "  Using cached pytz-2024.2-py2.py3-none-any.whl (508 kB)\n",
      "Collecting certifi>=2017.4.17\n",
      "  Using cached certifi-2024.8.30-py3-none-any.whl (167 kB)\n",
      "Collecting charset-normalizer<4,>=2\n",
      "  Using cached charset_normalizer-3.4.0-cp310-cp310-macosx_11_0_arm64.whl (120 kB)\n",
      "Collecting idna<4,>=2.5\n",
      "  Using cached idna-3.10-py3-none-any.whl (70 kB)\n",
      "Collecting urllib3<3,>=1.21.1\n",
      "  Using cached urllib3-2.2.3-py3-none-any.whl (126 kB)\n",
      "Collecting scipy>=1.6.0\n",
      "  Using cached scipy-1.14.1-cp310-cp310-macosx_14_0_arm64.whl (23.1 MB)\n",
      "Collecting joblib>=1.2.0\n",
      "  Using cached joblib-1.4.2-py3-none-any.whl (301 kB)\n",
      "Collecting threadpoolctl>=3.1.0\n",
      "  Using cached threadpoolctl-3.5.0-py3-none-any.whl (18 kB)\n",
      "Requirement already satisfied: six>=1.11.0 in /Users/bechols/.pyenv/versions/3.10.6/lib/python3.10/site-packages (from azure-core>=1.30.0->azure-storage-blob->lamini) (1.17.0)\n",
      "Collecting cffi>=1.12\n",
      "  Using cached cffi-1.17.1-cp310-cp310-macosx_11_0_arm64.whl (178 kB)\n",
      "Collecting pycparser\n",
      "  Using cached pycparser-2.22-py3-none-any.whl (117 kB)\n",
      "Installing collected packages: pytz, urllib3, tzdata, tqdm, threadpoolctl, pyyaml, pycparser, propcache, numpy, multidict, lamini-configuration, joblib, isodate, idna, frozenlist, charset-normalizer, certifi, attrs, async-timeout, aiohappyeyeballs, yarl, scipy, requests, pandas, jsonlines, cffi, aiosignal, scikit-learn, cryptography, azure-core, aiohttp, azure-storage-blob, lamini\n",
      "Successfully installed aiohappyeyeballs-2.4.4 aiohttp-3.11.10 aiosignal-1.3.1 async-timeout-5.0.1 attrs-24.2.0 azure-core-1.32.0 azure-storage-blob-12.24.0 certifi-2024.8.30 cffi-1.17.1 charset-normalizer-3.4.0 cryptography-44.0.0 frozenlist-1.5.0 idna-3.10 isodate-0.7.2 joblib-1.4.2 jsonlines-4.0.0 lamini-3.2.2 lamini-configuration-0.8.3 multidict-6.1.0 numpy-1.26.4 pandas-2.2.3 propcache-0.2.1 pycparser-2.22 pytz-2024.2 pyyaml-6.0.2 requests-2.32.3 scikit-learn-1.5.2 scipy-1.14.1 threadpoolctl-3.5.0 tqdm-4.67.1 tzdata-2024.2 urllib3-2.2.3 yarl-1.18.3\n",
      "\n",
      "\u001b[1m[\u001b[0m\u001b[34;49mnotice\u001b[0m\u001b[1;39;49m]\u001b[0m\u001b[39;49m A new release of pip available: \u001b[0m\u001b[31;49m22.2.1\u001b[0m\u001b[39;49m -> \u001b[0m\u001b[32;49m24.3.1\u001b[0m\n",
      "\u001b[1m[\u001b[0m\u001b[34;49mnotice\u001b[0m\u001b[1;39;49m]\u001b[0m\u001b[39;49m To update, run: \u001b[0m\u001b[32;49mpip install --upgrade pip\u001b[0m\n",
      "Note: you may need to restart the kernel to use updated packages.\n"
     ]
    }
   ],
   "source": [
    "pip install lamini --upgrade"
   ]
  },
  {
   "cell_type": "markdown",
   "metadata": {},
   "source": [
    "Now let's import the Lamini Python SDK and set our API key. You can get your API key from app.lamini.ai - every user gets $300 in free credits to get started."
   ]
  },
  {
   "cell_type": "code",
   "execution_count": 2,
   "metadata": {},
   "outputs": [],
   "source": [
    "import lamini\n",
    "\n",
    "lamini.api_key = \"your_api_key_here\""
   ]
  },
  {
   "cell_type": "markdown",
   "metadata": {},
   "source": [
    "Now we're all set up. The first thing we do is define the triage workflow project.\n",
    "\n",
    "When you create a project, you define several key elements that can't be changed later:\n",
    "\n",
    "1. A project name\n",
    "2. A base model for the project to use\n",
    "3. A set of categories or classes that you need to triage across\n",
    "4. Descriptions of each category\n",
    "\n",
    "Projects also (eventually) contain one or many versions of:\n",
    "\n",
    "1. Example inputs and the expected output - we call this a dataset\n",
    "2. Models trained on the dataset(s) you've provided\n"
   ]
  },
  {
   "cell_type": "markdown",
   "metadata": {},
   "source": [
    "Here we're creating a project named \"TriageWorkflowExample\" that will leverage the Meta-Llama-3.1-8B-Instruct model."
   ]
  },
  {
   "cell_type": "code",
   "execution_count": 7,
   "metadata": {},
   "outputs": [],
   "source": [
    "\n",
    "from lamini.classify.lamini_classifier import LaminiClassifier\n",
    "\n",
    "triage_workflow = LaminiClassifier(\n",
    "    \"TriageWorkflowExample\",\n",
    "    model_name=\"meta-llama/Meta-Llama-3.1-8B-Instruct\",\n",
    ")\n"
   ]
  },
  {
   "cell_type": "markdown",
   "metadata": {},
   "source": [
    "Once the project is created, we define the classes. The more detailed the description, the higher your accuracy will be."
   ]
  },
  {
   "cell_type": "code",
   "execution_count": 8,
   "metadata": {},
   "outputs": [],
   "source": [
    "\n",
    "classes = {\n",
    "    \"cat\": \"\"\"The cat (Felis catus), also referred to as domestic cat or house cat, is a small domesticated carnivorous mammal. It is the only domesticated species of the family Felidae. Advances in archaeology and genetics have shown that the domestication of the cat occurred in the Near East around 7500 BC. It is commonly kept as a pet and farm cat, but also ranges freely as a feral cat avoiding human contact. Valued by humans for companionship and its ability to kill vermin, the cat's retractable claws are adapted to killing small prey like mice and rats. It has a strong, flexible body, quick reflexes, and sharp teeth, and its night vision and sense of smell are well developed. It is a social species, but a solitary hunter and a crepuscular predator. Cat communication includes vocalizations—including meowing, purring, trilling, hissing, growling, and grunting–as well as body language. It can hear sounds too faint or too high in frequency for human ears, such as those made by small mammals. It secretes and perceives pheromones.\n",
    "            Domain:\tEukaryota\n",
    "            Kingdom:\tAnimalia\n",
    "            Phylum:\tChordata\n",
    "            Class:\tMammalia\n",
    "            Order:\tCarnivora\n",
    "            Suborder:\tFeliformia\n",
    "            Family:\tFelidae\n",
    "            Subfamily:\tFelinae\n",
    "            Genus:\tFelis\n",
    "            Species:\tF. catus[1]\"\"\",\n",
    "    \"dog\": \"\"\"The dog is a domesticated descendant of the wolf. Also called the domestic dog, it was selectively bred from an extinct population of wolves during the Late Pleistocene by hunter-gatherers. The dog was the first species to be domesticated by humans, over 14,000 years ago and before the development of agriculture. \n",
    "            Domain:\tEukaryota\n",
    "            Kingdom:\tAnimalia\n",
    "            Phylum:\tChordata\n",
    "            Class:\tMammalia\n",
    "            Order:\tCarnivora\n",
    "            Family:\tCanidae\n",
    "            Genus:\tCanis\"\"\",\n",
    "}\n"
   ]
  },
  {
   "cell_type": "markdown",
   "metadata": {},
   "source": [
    "Adding example inputs is optional, but will also help with accuracy. You can always do this later - we'll show you how later in this notebook."
   ]
  },
  {
   "cell_type": "code",
   "execution_count": 9,
   "metadata": {},
   "outputs": [],
   "source": [
    "\n",
    "examples = {\n",
    "    \"cat\": [\n",
    "        \"Tend to be independent and aloof.\",\n",
    "        \"Territorial and defensive .\",\n",
    "        \"Self-grooming animals, using their tongues to keep their coats clean and healthy.\",\n",
    "        \"Use body language and vocalizations, such as meowing and purring, to communicate.\"\n",
    "    ],\n",
    "    \"dog\": [\n",
    "        \"Social, pack-oriented, and tend to be more loyal to their human family.\",\n",
    "        \"Need regular grooming from their owners, including brushing and bathing.\",\n",
    "        \"Bark and growl to convey their messages.\",\n",
    "        \"Responsive to human commands and can be trained to perform a wide range of tasks.\"\n",
    "    ],\n",
    "}\n"
   ]
  },
  {
   "cell_type": "markdown",
   "metadata": {},
   "source": [
    "Now we initialize the project. This can take about a minute per class, so we'll put in a simple timer to keep us updated on status."
   ]
  },
  {
   "cell_type": "code",
   "execution_count": 10,
   "metadata": {},
   "outputs": [
    {
     "name": "stdout",
     "output_type": "stream",
     "text": [
      "Waiting for classifier to initialize\n",
      "Waiting for classifier to initialize\n",
      "Waiting for classifier to initialize\n",
      "Waiting for classifier to initialize\n",
      "Waiting for classifier to initialize\n",
      "Waiting for classifier to initialize\n",
      "Waiting for classifier to initialize\n",
      "Waiting for classifier to initialize\n",
      "Waiting for classifier to initialize\n",
      "Waiting for classifier to initialize\n",
      "Waiting for classifier to initialize\n",
      "Waiting for classifier to initialize\n",
      "Waiting for classifier to initialize\n",
      "Waiting for classifier to initialize\n",
      "Waiting for classifier to initialize\n",
      "Waiting for classifier to initialize\n",
      "Waiting for classifier to initialize\n",
      "Waiting for classifier to initialize\n",
      "Waiting for classifier to initialize\n",
      "Waiting for classifier to initialize\n",
      "Waiting for classifier to initialize\n",
      "Waiting for classifier to initialize\n",
      "Waiting for classifier to initialize\n",
      "Waiting for classifier to initialize\n",
      "Waiting for classifier to initialize\n",
      "Waiting for classifier to initialize\n",
      "Waiting for classifier to initialize\n",
      "Waiting for classifier to initialize\n",
      "Model ID: e6518b0e-ec20-4def-8730-4c3830a79fc6\n"
     ]
    }
   ],
   "source": [
    "resp = triage_workflow.initialize(classes, examples) \n",
    "\n",
    "import time\n",
    "\n",
    "while True:\n",
    "    print(\"Waiting for classifier to initialize\")\n",
    "    time.sleep(5)\n",
    "    resp = triage_workflow.train_status()\n",
    "    if resp[\"status\"] == \"completed\":\n",
    "        print(\"Model ID: \" + resp[\"model_id\"])\n",
    "        first_model_id = resp[\"model_id\"]\n",
    "        break\n",
    "    if resp[\"status\"] == \"failed\":\n",
    "        print(resp[\"status\"])\n",
    "        raise Exception(\"failed training\")\n"
   ]
  },
  {
   "cell_type": "markdown",
   "metadata": {},
   "source": [
    "Cool, we have our first model version! Let's try it out with a quick test."
   ]
  },
  {
   "cell_type": "code",
   "execution_count": 11,
   "metadata": {},
   "outputs": [
    {
     "data": {
      "text/plain": [
       "{'classification': [[{'class_id': 1,\n",
       "    'class_name': 'dog',\n",
       "    'prob': 0.5260134047468175},\n",
       "   {'class_id': 0, 'class_name': 'cat', 'prob': 0.47398659525318254}]]}"
      ]
     },
     "execution_count": 11,
     "metadata": {},
     "output_type": "execute_result"
    }
   ],
   "source": [
    "triage_workflow.classify(\"woof\")"
   ]
  },
  {
   "cell_type": "markdown",
   "metadata": {},
   "source": [
    "Now we can see how useful the triage workflow outut is. We get a list of all the categories we defined in our project, plus a confidence score for each.\n",
    "\n",
    "We can go even further to easily quantify the accuracy of our triage workflow. Let's run an evaluation!\n",
    "\n",
    "What an evaluation means for a triage workflow: when you provide a set of inputs and the expected output, we can test the accuracy of the model on those inputs, and give you back both overall metrics as well as per-input assessment. "
   ]
  },
  {
   "cell_type": "code",
   "execution_count": 12,
   "metadata": {},
   "outputs": [
    {
     "ename": "ModuleNotFoundError",
     "evalue": "No module named 'lamini.eval'",
     "output_type": "error",
     "traceback": [
      "\u001b[0;31m---------------------------------------------------------------------------\u001b[0m",
      "\u001b[0;31mModuleNotFoundError\u001b[0m                       Traceback (most recent call last)",
      "Cell \u001b[0;32mIn[12], line 1\u001b[0m\n\u001b[0;32m----> 1\u001b[0m \u001b[38;5;28;01mfrom\u001b[39;00m \u001b[38;5;21;01mlamini\u001b[39;00m\u001b[38;5;21;01m.\u001b[39;00m\u001b[38;5;21;01meval\u001b[39;00m \u001b[38;5;28;01mimport\u001b[39;00m LaminiEvaluator\n\u001b[1;32m      3\u001b[0m \u001b[38;5;28meval\u001b[39m \u001b[38;5;241m=\u001b[39m LaminiEvaluator(\n\u001b[1;32m      4\u001b[0m     test_model_id\u001b[38;5;241m=\u001b[39mfirst_model_id,\n\u001b[1;32m      5\u001b[0m     eval_data_id\u001b[38;5;241m=\u001b[39m\u001b[38;5;124m\"\u001b[39m\u001b[38;5;124mfirst_eval\u001b[39m\u001b[38;5;124m\"\u001b[39m,\n\u001b[0;32m   (...)\u001b[0m\n\u001b[1;32m      9\u001b[0m     fuzzy\u001b[38;5;241m=\u001b[39m\u001b[38;5;28;01mFalse\u001b[39;00m,\n\u001b[1;32m     10\u001b[0m )\n\u001b[1;32m     12\u001b[0m \u001b[38;5;28mprint\u001b[39m(\u001b[38;5;28meval\u001b[39m\u001b[38;5;241m.\u001b[39mrun())\n",
      "\u001b[0;31mModuleNotFoundError\u001b[0m: No module named 'lamini.eval'"
     ]
    }
   ],
   "source": [
    "from lamini.one_evaler.one_evaler import LaminiOneEvaler\n",
    "\n",
    "eval = LaminiOneEvaler(\n",
    "    test_model_id=first_model_id,\n",
    "    eval_data_id=\"first_eval\",\n",
    "    eval_data=[{\"input\": \"woof\", \"target\": \"dog\"}, {\"input\": \"meow\", \"target\": \"cat\"}],\n",
    "    test_eval_type=\"classifier\",\n",
    "    sbs=False,\n",
    "    fuzzy=False,\n",
    ")\n",
    "\n",
    "print(eval.run())\n"
   ]
  },
  {
   "cell_type": "markdown",
   "metadata": {},
   "source": [
    "That first run was ok, but we can do better. Let's add some more examples and retrain to improve accuracy. You control when to add data and when to train."
   ]
  },
  {
   "cell_type": "code",
   "execution_count": null,
   "metadata": {},
   "outputs": [],
   "source": [
    "\n",
    "resp = triage_workflow.add(\n",
    "    \"additional_data\",\n",
    "    {\n",
    "        \"cat\": [\n",
    "            \"Cats spend up to sixteen hours a day sleeping, making them some of nature's most dedicated nappers.\",\n",
    "            \"Felines possess an extraordinary sense of balance thanks to their flexible backbone and righting reflex.\",\n",
    "            \"A cat's sandpaper-like tongue is covered in tiny hooks called papillae that help them groom themselves effectively.\",\n",
    "            \"Female cats tend to be right-pawed while male cats are more often left-pawed, according to scientific studies.\",\n",
    "            \"Ancient Egyptians showed their devotion to cats by mummifying them alongside their human companions.\",\n",
    "        ],\n",
    "        \"dog\": [\n",
    "            \"Dogs have evolved alongside humans for over 15,000 years, developing an uncanny ability to read our facial expressions and emotions.\",\n",
    "            \"The average dog can understand around 165 different words or signals, though some exceptional dogs can learn many more.\",\n",
    "            \"A dog's sense of smell is roughly 40 times greater than a human's, allowing them to detect diseases and track scents that are days old.\",\n",
    "            \"Unlike humans who have three cones in their eyes, dogs only have two, making them partially colorblind but excellent at detecting movement.\",\n",
    "            \"The Basenji breed is known as the 'barkless dog' because it produces an unusual yodel-like sound instead of a typical bark.\",\n",
    "        ],\n",
    "    },\n",
    ")\n",
    "\n",
    "resp = triage_workflow.train()\n",
    "\n",
    "while True:\n",
    "    print(\"Waiting for classifier to train\")\n",
    "    time.sleep(5)\n",
    "    resp = triage_workflow.train_status()\n",
    "    if resp[\"status\"] == \"completed\":\n",
    "        print(\"Model ID: \" + resp[\"model_id\"])\n",
    "        second_model_id = resp[\"model_id\"]\n",
    "        break\n",
    "    if resp[\"status\"] == \"failed\":\n",
    "        print(resp[\"status\"])\n",
    "        raise Exception(\"failed training\")\n"
   ]
  },
  {
   "cell_type": "markdown",
   "metadata": {},
   "source": [
    "Great, now we have a second model version in our project! Let's run an eval and compare it to the first version."
   ]
  },
  {
   "cell_type": "code",
   "execution_count": null,
   "metadata": {},
   "outputs": [],
   "source": [
    "\n",
    "from lamini.one_evaler.one_evaler import LaminiOneEvaler\n",
    "\n",
    "eval_2 = LaminiOneEvaler(\n",
    "    test_model_id=first_model_id,\n",
    "    eval_data_id=\"second_eval\",\n",
    "    eval_data=[{\"input\": \"woof\", \"target\": \"dog\"}, {\"input\": \"meow\", \"target\": \"cat\"}],\n",
    "    test_eval_type=\"classifier\",\n",
    "    sbs=True,\n",
    "    fuzzy=False,\n",
    "    base_eval_type=\"classifier\",\n",
    "    base_eval_model_id=second_model_id,\n",
    ")\n",
    "\n",
    "print(eval.run())"
   ]
  },
  {
   "cell_type": "markdown",
   "metadata": {},
   "source": [
    "The eval output makes it easy to compare model versions overall, and to see exactly where the differences are, so you know exactly where to focus to improve your workflow.\n",
    "\n",
    "Happy triaging!"
   ]
  },
  {
   "cell_type": "markdown",
   "metadata": {},
   "source": []
  }
 ],
 "metadata": {
  "kernelspec": {
   "display_name": "lamini",
   "language": "python",
   "name": "python3"
  },
  "language_info": {
   "codemirror_mode": {
    "name": "ipython",
    "version": 3
   },
   "file_extension": ".py",
   "mimetype": "text/x-python",
   "name": "python",
   "nbconvert_exporter": "python",
   "pygments_lexer": "ipython3",
   "version": "3.10.6"
  }
 },
 "nbformat": 4,
 "nbformat_minor": 2
}
