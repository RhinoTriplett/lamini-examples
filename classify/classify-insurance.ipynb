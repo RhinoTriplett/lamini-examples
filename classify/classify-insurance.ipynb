{
 "cells": [
  {
   "cell_type": "markdown",
   "metadata": {},
   "source": [
    "# Lamini Classifier Example\n",
    "First let's install the Lamini Python SDK."
   ]
  },
  {
   "cell_type": "code",
   "execution_count": 2,
   "metadata": {},
   "outputs": [
    {
     "name": "stdout",
     "output_type": "stream",
     "text": [
      "Requirement already satisfied: lamini in /Users/bechols/.pyenv/versions/3.10.6/envs/lamini/lib/python3.10/site-packages (3.2.3)\n",
      "Requirement already satisfied: numpy<2.0.0 in /Users/bechols/.pyenv/versions/3.10.6/envs/lamini/lib/python3.10/site-packages (from lamini) (1.26.4)\n",
      "Requirement already satisfied: aiohttp in /Users/bechols/.pyenv/versions/3.10.6/envs/lamini/lib/python3.10/site-packages (from lamini) (3.10.5)\n",
      "Requirement already satisfied: requests in /Users/bechols/.pyenv/versions/3.10.6/envs/lamini/lib/python3.10/site-packages (from lamini) (2.32.3)\n",
      "Requirement already satisfied: jsonlines in /Users/bechols/.pyenv/versions/3.10.6/envs/lamini/lib/python3.10/site-packages (from lamini) (4.0.0)\n",
      "Requirement already satisfied: azure-storage-blob in /Users/bechols/.pyenv/versions/3.10.6/envs/lamini/lib/python3.10/site-packages (from lamini) (12.23.0)\n",
      "Requirement already satisfied: lamini-configuration[yaml] in /Users/bechols/.pyenv/versions/3.10.6/envs/lamini/lib/python3.10/site-packages (from lamini) (0.8.3)\n",
      "Requirement already satisfied: pandas in /Users/bechols/.pyenv/versions/3.10.6/envs/lamini/lib/python3.10/site-packages (from lamini) (2.2.2)\n",
      "Requirement already satisfied: tqdm in /Users/bechols/.pyenv/versions/3.10.6/envs/lamini/lib/python3.10/site-packages (from lamini) (4.66.5)\n",
      "Requirement already satisfied: scikit-learn in /Users/bechols/.pyenv/versions/3.10.6/envs/lamini/lib/python3.10/site-packages (from lamini) (1.5.2)\n",
      "Requirement already satisfied: frozenlist>=1.1.1 in /Users/bechols/.pyenv/versions/3.10.6/envs/lamini/lib/python3.10/site-packages (from aiohttp->lamini) (1.4.1)\n",
      "Requirement already satisfied: yarl<2.0,>=1.0 in /Users/bechols/.pyenv/versions/3.10.6/envs/lamini/lib/python3.10/site-packages (from aiohttp->lamini) (1.11.1)\n",
      "Requirement already satisfied: aiosignal>=1.1.2 in /Users/bechols/.pyenv/versions/3.10.6/envs/lamini/lib/python3.10/site-packages (from aiohttp->lamini) (1.3.1)\n",
      "Requirement already satisfied: multidict<7.0,>=4.5 in /Users/bechols/.pyenv/versions/3.10.6/envs/lamini/lib/python3.10/site-packages (from aiohttp->lamini) (6.1.0)\n",
      "Requirement already satisfied: async-timeout<5.0,>=4.0 in /Users/bechols/.pyenv/versions/3.10.6/envs/lamini/lib/python3.10/site-packages (from aiohttp->lamini) (4.0.3)\n",
      "Requirement already satisfied: aiohappyeyeballs>=2.3.0 in /Users/bechols/.pyenv/versions/3.10.6/envs/lamini/lib/python3.10/site-packages (from aiohttp->lamini) (2.4.0)\n",
      "Requirement already satisfied: attrs>=17.3.0 in /Users/bechols/.pyenv/versions/3.10.6/envs/lamini/lib/python3.10/site-packages (from aiohttp->lamini) (24.2.0)\n",
      "Requirement already satisfied: typing-extensions>=4.6.0 in /Users/bechols/.pyenv/versions/3.10.6/envs/lamini/lib/python3.10/site-packages (from azure-storage-blob->lamini) (4.12.2)\n",
      "Requirement already satisfied: cryptography>=2.1.4 in /Users/bechols/.pyenv/versions/3.10.6/envs/lamini/lib/python3.10/site-packages (from azure-storage-blob->lamini) (43.0.1)\n",
      "Requirement already satisfied: azure-core>=1.30.0 in /Users/bechols/.pyenv/versions/3.10.6/envs/lamini/lib/python3.10/site-packages (from azure-storage-blob->lamini) (1.31.0)\n",
      "Requirement already satisfied: isodate>=0.6.1 in /Users/bechols/.pyenv/versions/3.10.6/envs/lamini/lib/python3.10/site-packages (from azure-storage-blob->lamini) (0.6.1)\n",
      "Requirement already satisfied: pyyaml<7.0,>=6.0 in /Users/bechols/.pyenv/versions/3.10.6/envs/lamini/lib/python3.10/site-packages (from lamini-configuration[yaml]->lamini) (6.0.2)\n",
      "Requirement already satisfied: tzdata>=2022.7 in /Users/bechols/.pyenv/versions/3.10.6/envs/lamini/lib/python3.10/site-packages (from pandas->lamini) (2024.1)\n",
      "Requirement already satisfied: pytz>=2020.1 in /Users/bechols/.pyenv/versions/3.10.6/envs/lamini/lib/python3.10/site-packages (from pandas->lamini) (2024.2)\n",
      "Requirement already satisfied: python-dateutil>=2.8.2 in /Users/bechols/.pyenv/versions/3.10.6/envs/lamini/lib/python3.10/site-packages (from pandas->lamini) (2.9.0.post0)\n",
      "Requirement already satisfied: idna<4,>=2.5 in /Users/bechols/.pyenv/versions/3.10.6/envs/lamini/lib/python3.10/site-packages (from requests->lamini) (3.10)\n",
      "Requirement already satisfied: certifi>=2017.4.17 in /Users/bechols/.pyenv/versions/3.10.6/envs/lamini/lib/python3.10/site-packages (from requests->lamini) (2024.8.30)\n",
      "Requirement already satisfied: urllib3<3,>=1.21.1 in /Users/bechols/.pyenv/versions/3.10.6/envs/lamini/lib/python3.10/site-packages (from requests->lamini) (1.26.20)\n",
      "Requirement already satisfied: charset-normalizer<4,>=2 in /Users/bechols/.pyenv/versions/3.10.6/envs/lamini/lib/python3.10/site-packages (from requests->lamini) (3.3.2)\n",
      "Requirement already satisfied: threadpoolctl>=3.1.0 in /Users/bechols/.pyenv/versions/3.10.6/envs/lamini/lib/python3.10/site-packages (from scikit-learn->lamini) (3.5.0)\n",
      "Requirement already satisfied: joblib>=1.2.0 in /Users/bechols/.pyenv/versions/3.10.6/envs/lamini/lib/python3.10/site-packages (from scikit-learn->lamini) (1.4.2)\n",
      "Requirement already satisfied: scipy>=1.6.0 in /Users/bechols/.pyenv/versions/3.10.6/envs/lamini/lib/python3.10/site-packages (from scikit-learn->lamini) (1.14.1)\n",
      "Requirement already satisfied: six>=1.11.0 in /Users/bechols/.pyenv/versions/3.10.6/envs/lamini/lib/python3.10/site-packages (from azure-core>=1.30.0->azure-storage-blob->lamini) (1.16.0)\n",
      "Requirement already satisfied: cffi>=1.12 in /Users/bechols/.pyenv/versions/3.10.6/envs/lamini/lib/python3.10/site-packages (from cryptography>=2.1.4->azure-storage-blob->lamini) (1.17.1)\n",
      "Requirement already satisfied: pycparser in /Users/bechols/.pyenv/versions/3.10.6/envs/lamini/lib/python3.10/site-packages (from cffi>=1.12->cryptography>=2.1.4->azure-storage-blob->lamini) (2.22)\n",
      "\n",
      "\u001b[1m[\u001b[0m\u001b[34;49mnotice\u001b[0m\u001b[1;39;49m]\u001b[0m\u001b[39;49m A new release of pip available: \u001b[0m\u001b[31;49m22.2.1\u001b[0m\u001b[39;49m -> \u001b[0m\u001b[32;49m24.3.1\u001b[0m\n",
      "\u001b[1m[\u001b[0m\u001b[34;49mnotice\u001b[0m\u001b[1;39;49m]\u001b[0m\u001b[39;49m To update, run: \u001b[0m\u001b[32;49mpip install --upgrade pip\u001b[0m\n",
      "Note: you may need to restart the kernel to use updated packages.\n"
     ]
    }
   ],
   "source": [
    "pip install lamini --upgrade"
   ]
  },
  {
   "cell_type": "markdown",
   "metadata": {},
   "source": [
    "Now let's import the Lamini Python SDK and set our API key. You can get your API key from app.lamini.ai - every user gets $300 in free credits to get started."
   ]
  },
  {
   "cell_type": "code",
   "execution_count": 58,
   "metadata": {},
   "outputs": [],
   "source": [
    "import lamini\n",
    "\n",
    "lamini.api_key = \"a0b00cb22e25401a8228f35c6a89dd68\""
   ]
  },
  {
   "cell_type": "markdown",
   "metadata": {},
   "source": [
    "Now we're all set up. The first thing we do is define a classifier - Lamini uses the concept of a \"project\" to contain one or many classifier versions for a given task.\n",
    "\n",
    "When you create a project, you define several key elements that can't be changed later:\n",
    "\n",
    "1. A project name\n",
    "2. A base model for the project to use\n",
    "3. A set of categories or classes that you need to categorize\n",
    "4. Descriptions of each category\n",
    "\n",
    "Projects also (eventually) contain one or many versions of:\n",
    "\n",
    "1. Example inputs and the expected output - we call this a dataset\n",
    "2. Models trained on the dataset(s) you've provided\n"
   ]
  },
  {
   "cell_type": "markdown",
   "metadata": {},
   "source": [
    "Here we're creating a project named \"TriageWorkflowExample\" that will leverage the Meta-Llama-3.1-8B-Instruct model."
   ]
  },
  {
   "cell_type": "code",
   "execution_count": 71,
   "metadata": {},
   "outputs": [],
   "source": [
    "from lamini.classify.lamini_classifier import LaminiClassifier\n",
    "import random\n",
    "\n",
    "cls = LaminiClassifier(\n",
    "    f\"ClassifierExample{random.randint(1000,9999)}\"\n",
    ")"
   ]
  },
  {
   "cell_type": "markdown",
   "metadata": {},
   "source": [
    "Once the project is created, we define the classes. The more detailed the description, the higher your accuracy will be."
   ]
  },
  {
   "cell_type": "code",
   "execution_count": 72,
   "metadata": {},
   "outputs": [],
   "source": [
    "\n",
    "classes = {\n",
    "    \"policy_details\": \"\"\"Chats about policy specifics like coverage, limits, and exclusions\"\"\",\n",
    "    \"account_and_billing\": \"\"\"Chats about how the customer pays for their policies or other services\"\"\",\n",
    "}\n"
   ]
  },
  {
   "cell_type": "markdown",
   "metadata": {},
   "source": [
    "Adding example inputs is optional, but will also help with accuracy. You can always do this later - we'll show you how later in this notebook."
   ]
  },
  {
   "cell_type": "code",
   "execution_count": 75,
   "metadata": {},
   "outputs": [],
   "source": [
    "\n",
    "# policy examples from rows 1-3 of https://docs.google.com/spreadsheets/d/18X_QUlH0G3r2x2epDW3e79TpJsca65gUz9KblHct8a0/edit?gid=1597746069#gid=1597746069\n",
    "# account_and_billing examples from rows 61-63 of https://docs.google.com/spreadsheets/d/18X_QUlH0G3r2x2epDW3e79TpJsca65gUz9KblHct8a0/edit?gid=1597746069#gid=1597746069\n",
    "\n",
    "examples = {\n",
    "    \"policy_details\": [\n",
    "       r'''User: Hi, I'm considering purchasing an auto insurance policy from your company. Could you tell me what types of coverage are included?\n",
    "\n",
    "Bot: Of course! Our standard auto insurance policy includes liability coverage, collision coverage, comprehensive coverage, uninsured/underinsured motorist coverage, and personal injury protection. Is there a specific type of coverage you would like more details about?\n",
    "\n",
    "User: I'm particularly interested in understanding the comprehensive coverage. What does it entail?\n",
    "\n",
    "Bot: Comprehensive coverage helps cover damages to your vehicle that aren't caused by a collision, such as theft, vandalism, fire, or natural disasters. It also covers damage from falling objects or an animal striking your vehicle. Does this align with what you're looking for?\n",
    "\n",
    "User: yes thanks. Can I set up auto payment for this policy?''',\n",
    "r'''User: Hi, I'm considering getting a new insurance policy and wanted to understand more about the coverage options available.\n",
    "\n",
    "Bot: Hello! I'd be happy to help. Our policies typically cover areas such as personal injury, property damage, and liability. Is there a specific type of coverage you're interested in?\n",
    "\n",
    "User: I'm mainly interested in understanding the coverage for property damage. How extensive is it?\n",
    "\n",
    "Bot: For property damage, our policies cover a wide range of scenarios, including fire, theft, and natural disasters. You can choose different levels of coverage based on your needs. \n",
    "\n",
    "User: That's helpful. How do I determine the right level of coverage for my situation?\n",
    "\n",
    "Bot: Here is the link.\n",
    "\n",
    "User: Great! I saw the billing choices are limited and payment is always due the firts monday? Do you have auto pay?''',\n",
    "r'''User: Hi, I’m considering purchasing home insurance and would like to know more about the coverage options you offer.\n",
    "\n",
    "Bot: Hello! I'd be happy to help with that. Our home insurance policies can cover a range of incidents including natural disasters, theft, and accidental damage. Is there a specific coverage you are interested in?\n",
    "\n",
    "User: I’m interested in finding a policy that includes both theft and water damage due to plumbing issues. Is that possible?\n",
    "\n",
    "Bot: Yes, we do offer policies that include coverage for both theft and water damage caused by plumbing issues. Would you like more detailed information on what each of these covers?\n",
    "\n",
    "User: No. I want to know how much does it cost? What is the regular payment method?''',\n",
    "    ],\n",
    "    \"account_and_billing\": [\n",
    "        r'''User: Hi, I have a question about my insurance bill. Could you help me understand the charges for this month?\n",
    "\n",
    "Bot: Of course! Could you please provide your policy number so I can look up your billing details?\n",
    "\n",
    "User: Sure, my policy number is 12345678.\n",
    "\n",
    "Bot: Thank you. I see that this month's charges include your annual premium, which is divided into monthly payments. There's also a small fee for the additional roadside assistance coverage you added last month.\n",
    "\n",
    "User: Ah, I see now. Thank you for explaining that! Is there a way I can view this breakdown online as well?''',\n",
    "        r'''User: Hi, I'm trying to understand my recent insurance bill. Can you help me figure it out?\n",
    "\n",
    "Bot: Of course! I'm here to help. What specific part of the bill are you having trouble with?\n",
    "\n",
    "User: There's a section labeled \"\"adjustments\"\" with an additional charge. I don't understand what that means.\n",
    "\n",
    "Bot: Adjustments often account for changes in your policy, like a change in coverage or a modification in your payment plan. Would you like me to check if any specific modifications were made to your account?\n",
    "\n",
    "User: Yes, please. I made a change to my deductible last month, could that be it?''',\n",
    "        r''' User:  Hi, I have a question about my latest insurance bill. Could you help me figure out why it seems higher than usual?\n",
    "\n",
    " Bot:  Of course! I'd be happy to help. Could you provide your policy number so I can take a closer look at your billing details?\n",
    "\n",
    " User:  Sure, my policy number is 12345678.\n",
    "\n",
    " Bot:  Thank you! After reviewing your account, I see that there was an adjustment made this month due to a recent claim. This might explain the increase. Would you like more details on this adjustment?\n",
    "\n",
    " User:  Yes, please. I'd like to understand what the adjustment was for and if my bill will be lower next month.'''\n",
    "    ],\n",
    "}\n"
   ]
  },
  {
   "cell_type": "markdown",
   "metadata": {},
   "source": [
    "Now we initialize the project. This can take about a minute per class, so we'll put in a simple timer to keep us updated on status."
   ]
  },
  {
   "cell_type": "code",
   "execution_count": 74,
   "metadata": {},
   "outputs": [
    {
     "name": "stdout",
     "output_type": "stream",
     "text": [
      "Waiting for classifier to initialize\n",
      "Waiting for classifier to initialize\n",
      "Waiting for classifier to initialize\n",
      "Waiting for classifier to initialize\n",
      "Waiting for classifier to initialize\n",
      "Waiting for classifier to initialize\n",
      "Waiting for classifier to initialize\n",
      "Waiting for classifier to initialize\n",
      "Waiting for classifier to initialize\n",
      "Waiting for classifier to initialize\n",
      "Waiting for classifier to initialize\n",
      "Waiting for classifier to initialize\n",
      "Waiting for classifier to initialize\n",
      "Waiting for classifier to initialize\n",
      "Waiting for classifier to initialize\n",
      "Waiting for classifier to initialize\n",
      "Waiting for classifier to initialize\n",
      "Waiting for classifier to initialize\n",
      "Waiting for classifier to initialize\n",
      "Waiting for classifier to initialize\n",
      "Waiting for classifier to initialize\n",
      "Model ID: 5eedcc1b-b3f0-44df-a729-a286c0386249\n"
     ]
    }
   ],
   "source": [
    "resp = cls.initialize(classes, examples) \n",
    "\n",
    "import time\n",
    "\n",
    "while True:\n",
    "    print(\"Waiting for classifier to initialize\")\n",
    "    time.sleep(5)\n",
    "    resp = cls.train_status()\n",
    "    if resp[\"status\"] == \"completed\":\n",
    "        print(\"Model ID: \" + resp[\"model_id\"])\n",
    "        first_model_id = resp[\"model_id\"]\n",
    "        break\n",
    "    if resp[\"status\"] == \"failed\":\n",
    "        print(resp)\n",
    "        raise Exception(\"failed training\")\n"
   ]
  },
  {
   "cell_type": "markdown",
   "metadata": {},
   "source": [
    "Cool, we have our first model version! Let's try it out with a quick test."
   ]
  },
  {
   "cell_type": "code",
   "execution_count": 77,
   "metadata": {},
   "outputs": [
    {
     "name": "stdout",
     "output_type": "stream",
     "text": [
      "{\n",
      "  \"classification\": [\n",
      "    [\n",
      "      {\n",
      "        \"class_id\": 1,\n",
      "        \"class_name\": \"account_and_billing\",\n",
      "        \"prob\": 0.593126710234882\n",
      "      },\n",
      "      {\n",
      "        \"class_id\": 0,\n",
      "        \"class_name\": \"policy_details\",\n",
      "        \"prob\": 0.40687328976511805\n",
      "      }\n",
      "    ]\n",
      "  ]\n",
      "}\n"
     ]
    }
   ],
   "source": [
    "import json\n",
    "\n",
    "# target: account_and_billing\n",
    "\n",
    "print(json.dumps(cls.classify(''' User:  Hi there, I have a question about my insurance bill. Can you help me with that?  \\n  \\n Bot:  Absolutely! I’d be happy to assist you with your billing question. What specifically would you like to know?  \\n  \\n User:  Could you tell me how I can view and pay my bill online?  \\n  \\n Bot:  Sure thing! You can view and pay your bill by logging into your account on our website. Once logged in, navigate to the \"Billing\" section where you\\'ll see options to view your statement and make payments using various methods like credit card or bank transfer.  \\n  \\n User:  Great, but I’m not sure I remember my login details. Can you guide me on how to reset my password?'''), indent=2))\n"
   ]
  },
  {
   "cell_type": "markdown",
   "metadata": {},
   "source": [
    "Now we can see how useful the classifier output is. We get a list of all the categories we defined in our project, plus a confidence score for each.\n",
    "\n",
    "We can go even further to easily quantify the accuracy of our classifier. Let's run an evaluation!\n",
    "\n",
    "What an evaluation means for a classifier: when you provide a set of inputs and the expected output, we can test the accuracy of the model on those inputs, and give you back both overall metrics as well as per-input assessment. "
   ]
  },
  {
   "cell_type": "code",
   "execution_count": 84,
   "metadata": {},
   "outputs": [
    {
     "name": "stdout",
     "output_type": "stream",
     "text": [
      "{\n",
      "  \"eval_job_id\": \"394282949\",\n",
      "  \"eval_data_id\": \"first_eval9982\",\n",
      "  \"metrics\": {\n",
      "    \"tuned_accuracy\": 0.9,\n",
      "    \"tuned_precision\": 1.0,\n",
      "    \"tuned_recall\": 0.9,\n",
      "    \"tuned_f1\": 0.9473684210526315\n",
      "  },\n",
      "  \"status\": \"COMPLETED\",\n",
      "  \"predictions\": [\n",
      "    {\n",
      "      \"input\": \"User: Hi, can you help me with understanding my insurance bill this month?\\\\n\\\\nBot: Of course! Could you please provide your policy number so I can look up the details?\\\\n\\\\nUser: Sure, my policy number is 123456789.\\\\n\\\\nBot: Thank you! I see your bill includes a premium payment and a small adjustment for a policy change last month. Would you like more details on these charges?\\\\n\\\\nUser: Yes, please explain the adjustment for the policy change.\",\n",
      "      \"target\": \"account_and_billing\",\n",
      "      \"test_output\": \"policy_details\",\n",
      "      \"base_output\": null\n",
      "    },\n",
      "    {\n",
      "      \"input\": \"User: Hi there! I have a question about my billing statement. \\\\n\\\\nBot: Sure, I\\\\'d be happy to help! What specifically would you like to know about your billing statement?\\\\n\\\\nUser: I noticed an extra charge labeled \\\"service fee\\\" on my last bill. What is this fee for?\\\\n\\\\nBot: The service fee is typically applied for administrative costs related to managing your policy. However, it shouldn\\\\'t be unexpected. Would you like me to check if it\\\\'s a recurring charge on your plan?\\\\n\\\\nUser: Yes, please! I\\\\'d appreciate that.\",\n",
      "      \"target\": \"account_and_billing\",\n",
      "      \"test_output\": \"account_and_billing\",\n",
      "      \"base_output\": null\n",
      "    },\n",
      "    {\n",
      "      \"input\": \"User: Hi, I\\\\'m trying to understand why my premium this month seems higher than usual. Can you help with that?\\\\n\\\\nBot: Of course! There could be a few reasons for an increase in your premium. Have you recently updated your policy or added any new coverage?\\\\n\\\\nUser: Hmm, I don\\\\'t think I\\\\'ve made any changes. Could it be something else?\\\\n\\\\nBot: It\\\\'s possible that there were changes in your area that affected your rate or adjustments made at the time of your policy renewal. I can also check if any discounts have expired.\\\\n\\\\nUser: That would be great! Could you take a look at whether any discounts I had have been removed?\",\n",
      "      \"target\": \"account_and_billing\",\n",
      "      \"test_output\": \"account_and_billing\",\n",
      "      \"base_output\": null\n",
      "    },\n",
      "    {\n",
      "      \"input\": \"User:  Hi, I got a question about my insurance billing. Could you help me with how I can check my current payment status?\\\\n\\\\n Bot:  Certainly! To check your current payment status, you can log into your account on our website or use our mobile app. Once logged in, navigate to the \\\"Billing\\\" section, and you should be able to view your current status and any upcoming payments.\\\\n\\\\n User:  What if I don\\\\'t have access to the internet right now? Is there another way to check?\\\\n\\\\n Bot:  Of course! You can check your payment status by calling our customer service hotline. Our representatives will be happy to assist you with the information you need.\\\\n\\\\n User:  Great, thank you! I\\\\'ll give them a call.\",\n",
      "      \"target\": \"account_and_billing\",\n",
      "      \"test_output\": \"account_and_billing\",\n",
      "      \"base_output\": null\n",
      "    },\n",
      "    {\n",
      "      \"input\": \"User: Hi, I\\\\'m trying to understand how to set up automatic payments for my insurance bills. Can you help?\\\\n\\\\nBot: Of course! You can set up automatic payments through our online portal. Would you like instructions on how to do that?\\\\n\\\\nUser: Yes, please. That would be great.\\\\n\\\\nBot: Once you log into your account on our website, click on \\\"Billing & Payments\\\" and then select \\\"Set Up Automatic Payments.\\\" You\\\\'ll be guided to enter your bank details and confirm your payment schedule.\\\\n\\\\nUser: Perfect, thank you! I\\\\'ll do that now.\",\n",
      "      \"target\": \"account_and_billing\",\n",
      "      \"test_output\": \"account_and_billing\",\n",
      "      \"base_output\": null\n",
      "    },\n",
      "    {\n",
      "      \"input\": \"User: Hi, I\\\\'m considering purchasing an auto insurance policy from your company. Could you tell me what types of coverage are included?\\\\n\\\\nBot: Of course! Our standard auto insurance policy includes liability coverage, collision coverage, comprehensive coverage, uninsured/underinsured motorist coverage, and personal injury protection. Is there a specific type of coverage you would like more details about?\\\\n\\\\nUser: I\\\\'m particularly interested in understanding the comprehensive coverage. What does it entail?\\\\n\\\\nBot: Comprehensive coverage helps cover damages to your vehicle that aren\\\\'t caused by a collision, such as theft, vandalism, fire, or natural disasters. It also covers damage from falling objects or an animal striking your vehicle. Does this align with what you\\\\'re looking for?\\\\n\\\\nUser: yes thanks. Can I set up auto payment for this policy?\",\n",
      "      \"target\": \"policy_details\",\n",
      "      \"test_output\": \"policy_details\",\n",
      "      \"base_output\": null\n",
      "    },\n",
      "    {\n",
      "      \"input\": \"User: Hi, I\\\\'m considering getting a new insurance policy and wanted to understand more about the coverage options available.\\\\n\\\\nBot: Hello! I\\\\'d be happy to help. Our policies typically cover areas such as personal injury, property damage, and liability. Is there a specific type of coverage you\\\\'re interested in?\\\\n\\\\nUser: I\\\\'m mainly interested in understanding the coverage for property damage. How extensive is it?\\\\n\\\\nBot: For property damage, our policies cover a wide range of scenarios, including fire, theft, and natural disasters. You can choose different levels of coverage based on your needs. \\\\n\\\\nUser: That\\\\'s helpful. How do I determine the right level of coverage for my situation?\\\\n\\\\nBot: Here is the link.\\\\n\\\\nUser: Great! I saw the billing choices are limited and payment is always due the firts monday? Do you have auto pay?\",\n",
      "      \"target\": \"policy_details\",\n",
      "      \"test_output\": \"policy_details\",\n",
      "      \"base_output\": null\n",
      "    },\n",
      "    {\n",
      "      \"input\": \"User: Hi, I\\u2019m considering purchasing home insurance and would like to know more about the coverage options you offer.\\\\n\\\\nBot: Hello! I\\\\'d be happy to help with that. Our home insurance policies can cover a range of incidents including natural disasters, theft, and accidental damage. Is there a specific coverage you are interested in?\\\\n\\\\nUser: I\\u2019m interested in finding a policy that includes both theft and water damage due to plumbing issues. Is that possible?\\\\n\\\\nBot: Yes, we do offer policies that include coverage for both theft and water damage caused by plumbing issues. Would you like more detailed information on what each of these covers?\\\\n\\\\nUser: No. I want to know how much does it cost? What is the regular payment method?\",\n",
      "      \"target\": \"policy_details\",\n",
      "      \"test_output\": \"policy_details\",\n",
      "      \"base_output\": null\n",
      "    },\n",
      "    {\n",
      "      \"input\": \"User: Hi, I was considering getting a home insurance policy and wanted to know what kind of coverage you offer.\\\\n\\\\nBot: Hello! We offer comprehensive coverage that includes protection for your home structure, personal belongings, liability, and additional living expenses in case of a covered loss. Is there anything specific you would like more details about?\\\\n\\\\nUser: That\\\\'s great. Could you tell me more about the length of the policy term?\\\\n\\\\nBot: Certainly! Our standard home insurance policies typically have terms of one year, with options to renew annually. We also offer discounts for customers who choose to sign up for multiple years. Does this work for you?\\\\n\\\\nUser: Can I pay through online portal for the premium? Or what alternative payment method do you have?\",\n",
      "      \"target\": \"policy_details\",\n",
      "      \"test_output\": \"policy_details\",\n",
      "      \"base_output\": null\n",
      "    },\n",
      "    {\n",
      "      \"input\": \"User: Hi there! I\\\\'m considering getting a health insurance policy with your company and I was wondering about the coverage details.\\\\n\\\\nBot: Hello! I\\\\'d be happy to assist with that. Our health insurance policies typically cover doctor visits, hospital stays, prescription medications, and preventive care. Are there specific areas of coverage you\\\\'re interested in?\\\\n\\\\nUser: Great, what about coverage for specialist visits, such as seeing a dermatologist or cardiologist?\\\\n\\\\nBot: Yes, our policies do cover specialist visits. It usually requires a referral from your primary care doctor, but once you have that, you\\\\'re covered for specialist consultations as well.\\\\n\\\\nUser: Fine. What is usually the due date of the premium?\",\n",
      "      \"target\": \"policy_details\",\n",
      "      \"test_output\": \"policy_details\",\n",
      "      \"base_output\": null\n",
      "    }\n",
      "  ]\n",
      "}\n",
      "Error processing results: the JSON object must be str, bytes or bytearray, not dict\n",
      "Raw results: {'eval_job_id': '394282949', 'eval_data_id': 'first_eval9982', 'metrics': {'tuned_accuracy': 0.9, 'tuned_precision': 1.0, 'tuned_recall': 0.9, 'tuned_f1': 0.9473684210526315}, 'status': 'COMPLETED', 'predictions': [{'input': 'User: Hi, can you help me with understanding my insurance bill this month?\\\\n\\\\nBot: Of course! Could you please provide your policy number so I can look up the details?\\\\n\\\\nUser: Sure, my policy number is 123456789.\\\\n\\\\nBot: Thank you! I see your bill includes a premium payment and a small adjustment for a policy change last month. Would you like more details on these charges?\\\\n\\\\nUser: Yes, please explain the adjustment for the policy change.', 'target': 'account_and_billing', 'test_output': 'policy_details', 'base_output': None}, {'input': 'User: Hi there! I have a question about my billing statement. \\\\n\\\\nBot: Sure, I\\\\\\'d be happy to help! What specifically would you like to know about your billing statement?\\\\n\\\\nUser: I noticed an extra charge labeled \"service fee\" on my last bill. What is this fee for?\\\\n\\\\nBot: The service fee is typically applied for administrative costs related to managing your policy. However, it shouldn\\\\\\'t be unexpected. Would you like me to check if it\\\\\\'s a recurring charge on your plan?\\\\n\\\\nUser: Yes, please! I\\\\\\'d appreciate that.', 'target': 'account_and_billing', 'test_output': 'account_and_billing', 'base_output': None}, {'input': \"User: Hi, I\\\\'m trying to understand why my premium this month seems higher than usual. Can you help with that?\\\\n\\\\nBot: Of course! There could be a few reasons for an increase in your premium. Have you recently updated your policy or added any new coverage?\\\\n\\\\nUser: Hmm, I don\\\\'t think I\\\\'ve made any changes. Could it be something else?\\\\n\\\\nBot: It\\\\'s possible that there were changes in your area that affected your rate or adjustments made at the time of your policy renewal. I can also check if any discounts have expired.\\\\n\\\\nUser: That would be great! Could you take a look at whether any discounts I had have been removed?\", 'target': 'account_and_billing', 'test_output': 'account_and_billing', 'base_output': None}, {'input': 'User:  Hi, I got a question about my insurance billing. Could you help me with how I can check my current payment status?\\\\n\\\\n Bot:  Certainly! To check your current payment status, you can log into your account on our website or use our mobile app. Once logged in, navigate to the \"Billing\" section, and you should be able to view your current status and any upcoming payments.\\\\n\\\\n User:  What if I don\\\\\\'t have access to the internet right now? Is there another way to check?\\\\n\\\\n Bot:  Of course! You can check your payment status by calling our customer service hotline. Our representatives will be happy to assist you with the information you need.\\\\n\\\\n User:  Great, thank you! I\\\\\\'ll give them a call.', 'target': 'account_and_billing', 'test_output': 'account_and_billing', 'base_output': None}, {'input': 'User: Hi, I\\\\\\'m trying to understand how to set up automatic payments for my insurance bills. Can you help?\\\\n\\\\nBot: Of course! You can set up automatic payments through our online portal. Would you like instructions on how to do that?\\\\n\\\\nUser: Yes, please. That would be great.\\\\n\\\\nBot: Once you log into your account on our website, click on \"Billing & Payments\" and then select \"Set Up Automatic Payments.\" You\\\\\\'ll be guided to enter your bank details and confirm your payment schedule.\\\\n\\\\nUser: Perfect, thank you! I\\\\\\'ll do that now.', 'target': 'account_and_billing', 'test_output': 'account_and_billing', 'base_output': None}, {'input': \"User: Hi, I\\\\'m considering purchasing an auto insurance policy from your company. Could you tell me what types of coverage are included?\\\\n\\\\nBot: Of course! Our standard auto insurance policy includes liability coverage, collision coverage, comprehensive coverage, uninsured/underinsured motorist coverage, and personal injury protection. Is there a specific type of coverage you would like more details about?\\\\n\\\\nUser: I\\\\'m particularly interested in understanding the comprehensive coverage. What does it entail?\\\\n\\\\nBot: Comprehensive coverage helps cover damages to your vehicle that aren\\\\'t caused by a collision, such as theft, vandalism, fire, or natural disasters. It also covers damage from falling objects or an animal striking your vehicle. Does this align with what you\\\\'re looking for?\\\\n\\\\nUser: yes thanks. Can I set up auto payment for this policy?\", 'target': 'policy_details', 'test_output': 'policy_details', 'base_output': None}, {'input': \"User: Hi, I\\\\'m considering getting a new insurance policy and wanted to understand more about the coverage options available.\\\\n\\\\nBot: Hello! I\\\\'d be happy to help. Our policies typically cover areas such as personal injury, property damage, and liability. Is there a specific type of coverage you\\\\'re interested in?\\\\n\\\\nUser: I\\\\'m mainly interested in understanding the coverage for property damage. How extensive is it?\\\\n\\\\nBot: For property damage, our policies cover a wide range of scenarios, including fire, theft, and natural disasters. You can choose different levels of coverage based on your needs. \\\\n\\\\nUser: That\\\\'s helpful. How do I determine the right level of coverage for my situation?\\\\n\\\\nBot: Here is the link.\\\\n\\\\nUser: Great! I saw the billing choices are limited and payment is always due the firts monday? Do you have auto pay?\", 'target': 'policy_details', 'test_output': 'policy_details', 'base_output': None}, {'input': \"User: Hi, I’m considering purchasing home insurance and would like to know more about the coverage options you offer.\\\\n\\\\nBot: Hello! I\\\\'d be happy to help with that. Our home insurance policies can cover a range of incidents including natural disasters, theft, and accidental damage. Is there a specific coverage you are interested in?\\\\n\\\\nUser: I’m interested in finding a policy that includes both theft and water damage due to plumbing issues. Is that possible?\\\\n\\\\nBot: Yes, we do offer policies that include coverage for both theft and water damage caused by plumbing issues. Would you like more detailed information on what each of these covers?\\\\n\\\\nUser: No. I want to know how much does it cost? What is the regular payment method?\", 'target': 'policy_details', 'test_output': 'policy_details', 'base_output': None}, {'input': \"User: Hi, I was considering getting a home insurance policy and wanted to know what kind of coverage you offer.\\\\n\\\\nBot: Hello! We offer comprehensive coverage that includes protection for your home structure, personal belongings, liability, and additional living expenses in case of a covered loss. Is there anything specific you would like more details about?\\\\n\\\\nUser: That\\\\'s great. Could you tell me more about the length of the policy term?\\\\n\\\\nBot: Certainly! Our standard home insurance policies typically have terms of one year, with options to renew annually. We also offer discounts for customers who choose to sign up for multiple years. Does this work for you?\\\\n\\\\nUser: Can I pay through online portal for the premium? Or what alternative payment method do you have?\", 'target': 'policy_details', 'test_output': 'policy_details', 'base_output': None}, {'input': \"User: Hi there! I\\\\'m considering getting a health insurance policy with your company and I was wondering about the coverage details.\\\\n\\\\nBot: Hello! I\\\\'d be happy to assist with that. Our health insurance policies typically cover doctor visits, hospital stays, prescription medications, and preventive care. Are there specific areas of coverage you\\\\'re interested in?\\\\n\\\\nUser: Great, what about coverage for specialist visits, such as seeing a dermatologist or cardiologist?\\\\n\\\\nBot: Yes, our policies do cover specialist visits. It usually requires a referral from your primary care doctor, but once you have that, you\\\\'re covered for specialist consultations as well.\\\\n\\\\nUser: Fine. What is usually the due date of the premium?\", 'target': 'policy_details', 'test_output': 'policy_details', 'base_output': None}]}\n"
     ]
    }
   ],
   "source": [
    "\n",
    "# account_and_billing eval\n",
    "# rows 71-75 from https://docs.google.com/spreadsheets/d/18X_QUlH0G3r2x2epDW3e79TpJsca65gUz9KblHct8a0/edit?gid=1597746069#gid=1597746069\n",
    "account_eval = [\n",
    "    {\n",
    "        \"input\": r'''User: Hi, can you help me with understanding my insurance bill this month?\\n\\nBot: Of course! Could you please provide your policy number so I can look up the details?\\n\\nUser: Sure, my policy number is 123456789.\\n\\nBot: Thank you! I see your bill includes a premium payment and a small adjustment for a policy change last month. Would you like more details on these charges?\\n\\nUser: Yes, please explain the adjustment for the policy change.''',\n",
    "        \"target\": \"account_and_billing\"\n",
    "    },\n",
    "    {\n",
    "        \"input\": r'''User: Hi there! I have a question about my billing statement. \\n\\nBot: Sure, I\\'d be happy to help! What specifically would you like to know about your billing statement?\\n\\nUser: I noticed an extra charge labeled \"service fee\" on my last bill. What is this fee for?\\n\\nBot: The service fee is typically applied for administrative costs related to managing your policy. However, it shouldn\\'t be unexpected. Would you like me to check if it\\'s a recurring charge on your plan?\\n\\nUser: Yes, please! I\\'d appreciate that.''',\n",
    "        \"target\": \"account_and_billing\"\n",
    "    },\n",
    "    {\n",
    "        \"input\": r'''User: Hi, I\\'m trying to understand why my premium this month seems higher than usual. Can you help with that?\\n\\nBot: Of course! There could be a few reasons for an increase in your premium. Have you recently updated your policy or added any new coverage?\\n\\nUser: Hmm, I don\\'t think I\\'ve made any changes. Could it be something else?\\n\\nBot: It\\'s possible that there were changes in your area that affected your rate or adjustments made at the time of your policy renewal. I can also check if any discounts have expired.\\n\\nUser: That would be great! Could you take a look at whether any discounts I had have been removed?''',\n",
    "        \"target\": \"account_and_billing\"\n",
    "    },\n",
    "    {\n",
    "        \"input\": r'''User:  Hi, I got a question about my insurance billing. Could you help me with how I can check my current payment status?\\n\\n Bot:  Certainly! To check your current payment status, you can log into your account on our website or use our mobile app. Once logged in, navigate to the \"Billing\" section, and you should be able to view your current status and any upcoming payments.\\n\\n User:  What if I don\\'t have access to the internet right now? Is there another way to check?\\n\\n Bot:  Of course! You can check your payment status by calling our customer service hotline. Our representatives will be happy to assist you with the information you need.\\n\\n User:  Great, thank you! I\\'ll give them a call.''',\n",
    "        \"target\": \"account_and_billing\"\n",
    "    },\n",
    "    {\n",
    "        \"input\": r'''User: Hi, I\\'m trying to understand how to set up automatic payments for my insurance bills. Can you help?\\n\\nBot: Of course! You can set up automatic payments through our online portal. Would you like instructions on how to do that?\\n\\nUser: Yes, please. That would be great.\\n\\nBot: Once you log into your account on our website, click on \"Billing & Payments\" and then select \"Set Up Automatic Payments.\" You\\'ll be guided to enter your bank details and confirm your payment schedule.\\n\\nUser: Perfect, thank you! I\\'ll do that now.''',\n",
    "        \"target\": \"account_and_billing\"\n",
    "    }\n",
    "]\n",
    "\n",
    "# policy_details eval\n",
    "# rows 1-5 from https://docs.google.com/spreadsheets/d/18X_QUlH0G3r2x2epDW3e79TpJsca65gUz9KblHct8a0/edit?gid=1597746069#gid=1597746069\n",
    "policy_eval = [\n",
    "    {\n",
    "        \"input\": r'''User: Hi, I\\'m considering purchasing an auto insurance policy from your company. Could you tell me what types of coverage are included?\\n\\nBot: Of course! Our standard auto insurance policy includes liability coverage, collision coverage, comprehensive coverage, uninsured/underinsured motorist coverage, and personal injury protection. Is there a specific type of coverage you would like more details about?\\n\\nUser: I\\'m particularly interested in understanding the comprehensive coverage. What does it entail?\\n\\nBot: Comprehensive coverage helps cover damages to your vehicle that aren\\'t caused by a collision, such as theft, vandalism, fire, or natural disasters. It also covers damage from falling objects or an animal striking your vehicle. Does this align with what you\\'re looking for?\\n\\nUser: yes thanks. Can I set up auto payment for this policy?''',\n",
    "        \"target\": \"policy_details\"\n",
    "    },\n",
    "    {\n",
    "        \"input\": r'''User: Hi, I\\'m considering getting a new insurance policy and wanted to understand more about the coverage options available.\\n\\nBot: Hello! I\\'d be happy to help. Our policies typically cover areas such as personal injury, property damage, and liability. Is there a specific type of coverage you\\'re interested in?\\n\\nUser: I\\'m mainly interested in understanding the coverage for property damage. How extensive is it?\\n\\nBot: For property damage, our policies cover a wide range of scenarios, including fire, theft, and natural disasters. You can choose different levels of coverage based on your needs. \\n\\nUser: That\\'s helpful. How do I determine the right level of coverage for my situation?\\n\\nBot: Here is the link.\\n\\nUser: Great! I saw the billing choices are limited and payment is always due the firts monday? Do you have auto pay?''',\n",
    "        \"target\": \"policy_details\"\n",
    "    },\n",
    "    {\n",
    "        \"input\": r'''User: Hi, I’m considering purchasing home insurance and would like to know more about the coverage options you offer.\\n\\nBot: Hello! I\\'d be happy to help with that. Our home insurance policies can cover a range of incidents including natural disasters, theft, and accidental damage. Is there a specific coverage you are interested in?\\n\\nUser: I’m interested in finding a policy that includes both theft and water damage due to plumbing issues. Is that possible?\\n\\nBot: Yes, we do offer policies that include coverage for both theft and water damage caused by plumbing issues. Would you like more detailed information on what each of these covers?\\n\\nUser: No. I want to know how much does it cost? What is the regular payment method?''',\n",
    "        \"target\": \"policy_details\"\n",
    "    },\n",
    "    {\n",
    "        \"input\": r'''User: Hi, I was considering getting a home insurance policy and wanted to know what kind of coverage you offer.\\n\\nBot: Hello! We offer comprehensive coverage that includes protection for your home structure, personal belongings, liability, and additional living expenses in case of a covered loss. Is there anything specific you would like more details about?\\n\\nUser: That\\'s great. Could you tell me more about the length of the policy term?\\n\\nBot: Certainly! Our standard home insurance policies typically have terms of one year, with options to renew annually. We also offer discounts for customers who choose to sign up for multiple years. Does this work for you?\\n\\nUser: Can I pay through online portal for the premium? Or what alternative payment method do you have?''',\n",
    "        \"target\": \"policy_details\"\n",
    "    },\n",
    "    {\n",
    "        \"input\": r'''User: Hi there! I\\'m considering getting a health insurance policy with your company and I was wondering about the coverage details.\\n\\nBot: Hello! I\\'d be happy to assist with that. Our health insurance policies typically cover doctor visits, hospital stays, prescription medications, and preventive care. Are there specific areas of coverage you\\'re interested in?\\n\\nUser: Great, what about coverage for specialist visits, such as seeing a dermatologist or cardiologist?\\n\\nBot: Yes, our policies do cover specialist visits. It usually requires a referral from your primary care doctor, but once you have that, you\\'re covered for specialist consultations as well.\\n\\nUser: Fine. What is usually the due date of the premium?''',\n",
    "        \"target\": \"policy_details\"\n",
    "    }\n",
    "]\n",
    "\n",
    "from lamini.one_evaler.one_evaler import LaminiOneEvaler\n",
    "\n",
    "eval = LaminiOneEvaler(\n",
    "    test_model_id=first_model_id,\n",
    "    eval_data_id=f\"first_eval{random.randint(1000,9999)}\",\n",
    "    eval_data=account_eval+policy_eval,\n",
    "    test_eval_type=\"classifier\",\n",
    ")\n",
    "\n",
    "full_eval = eval.run()\n",
    "\n",
    "print(json.dumps(full_eval, indent=2))\n",
    "\n",
    "def print_missed_evals(eval_results_str):\n",
    "    try:\n",
    "        eval_results = json.loads(eval_results_str)\n",
    "        for result in eval_results:\n",
    "            test_output = result['prediction']\n",
    "            target = result['target']\n",
    "            \n",
    "            if test_output != target:\n",
    "                print(f\"\\nMissed Evaluation\")\n",
    "                print(f\"Expected: {target}\")\n",
    "                print(f\"Predicted: {test_output}\")\n",
    "                print(f\"Input: {result['input']}\")\n",
    "                print(f\"Confidence: {result.get('confidence', 'N/A')}\")\n",
    "                print(\"-\" * 80)\n",
    "    except json.JSONDecodeError:\n",
    "        print(\"Error: Could not parse evaluation results as JSON\")\n",
    "    except TypeError as e:\n",
    "        print(f\"Error processing results: {e}\")\n",
    "        print(f\"Raw results: {eval_results_str}\")\n",
    "\n",
    "print_missed_evals(full_eval)"
   ]
  },
  {
   "cell_type": "markdown",
   "metadata": {},
   "source": [
    "Best practice: after you've added a few high-quality examples, you should run an eval and carefully review the ground truth labels to make sure they're aligned with the classifier's task and scope - the tags in a general eval set aren't always the best for a narrowly-defined classifier agent to learn from. Don't just review inputs where the assigned class was completely wrong - also review inputs where the classifier's answer is correct but the confidence score is low.\n",
    "\n",
    "Even with just 3 examples of each class, we already got 9 of 10 eval inputs correct. Let's go for 100% accuracy!\n",
    "\n",
    "We should look at the content of the missed input(s), source or generate examples that cover the relevant concepts or structure of the missed input(s), and add them to the classifier.\n",
    "\n",
    "Above, the missed input was"
   ]
  },
  {
   "cell_type": "code",
   "execution_count": 65,
   "metadata": {},
   "outputs": [
    {
     "name": "stdout",
     "output_type": "stream",
     "text": [
      "Waiting for classifier to train\n",
      "Waiting for classifier to train\n",
      "Model ID: 6f82d155-2d1d-4bfe-9cc1-6824c6aaddf3\n"
     ]
    }
   ],
   "source": [
    "\n",
    "## TODO update\n",
    "\n",
    "resp = cls.add(\n",
    "    \"additional_data\",\n",
    "    {\n",
    "        \"account_and_billing\": [\n",
    "            \"Cats spend up to sixteen hours a day sleeping, making them some of nature's most dedicated nappers.\",\n",
    "            \"Felines possess an extraordinary sense of balance thanks to their flexible backbone and righting reflex.\",\n",
    "            \"A cat's sandpaper-like tongue is covered in tiny hooks called papillae that help them groom themselves effectively.\",\n",
    "            \"Female cats tend to be right-pawed while male cats are more often left-pawed, according to scientific studies.\",\n",
    "            \"Ancient Egyptians showed their devotion to cats by mummifying them alongside their human companions.\",\n",
    "        ],\n",
    "        \"policy_details\": [\n",
    "            \"Dogs have evolved alongside humans for over 15,000 years, developing an uncanny ability to read our facial expressions and emotions.\",\n",
    "            \"The average dog can understand around 165 different words or signals, though some exceptional dogs can learn many more.\",\n",
    "            \"A dog's sense of smell is roughly 40 times greater than a human's, allowing them to detect diseases and track scents that are days old.\",\n",
    "            \"Unlike humans who have three cones in their eyes, dogs only have two, making them partially colorblind but excellent at detecting movement.\",\n",
    "            \"The Basenji breed is known as the 'barkless dog' because it produces an unusual yodel-like sound instead of a typical bark.\",\n",
    "        ],\n",
    "    },\n",
    ")\n",
    "\n",
    "resp = cls.train()\n",
    "\n",
    "while True:\n",
    "    print(\"Waiting for classifier to train\")\n",
    "    time.sleep(5)\n",
    "    resp = cls.train_status()\n",
    "    if resp[\"status\"] == \"completed\":\n",
    "        print(\"Model ID: \" + resp[\"model_id\"])\n",
    "        second_model_id = resp[\"model_id\"]\n",
    "        break\n",
    "    if resp[\"status\"] == \"failed\":\n",
    "        print(resp[\"status\"])\n",
    "        raise Exception(\"failed training\")\n"
   ]
  },
  {
   "cell_type": "markdown",
   "metadata": {},
   "source": [
    "Great, now we have a second model version in our project! Let's run an eval and compare it to the first version."
   ]
  },
  {
   "cell_type": "code",
   "execution_count": 68,
   "metadata": {},
   "outputs": [
    {
     "name": "stdout",
     "output_type": "stream",
     "text": [
      "Running comparison eval between model versions bfa01a54-041a-49d5-af27-4f5f5b808177 and 6f82d155-2d1d-4bfe-9cc1-6824c6aaddf3\n",
      "{\n",
      "  \"eval_job_id\": \"984315324\",\n",
      "  \"eval_data_id\": \"second_eval8620\",\n",
      "  \"metrics\": {\n",
      "    \"base_accuracy\": 0.0,\n",
      "    \"base_precision\": 0.0,\n",
      "    \"base_recall\": 0.0,\n",
      "    \"base_f1\": 0.0,\n",
      "    \"base_fuzzy_accuracy\": 0.0,\n",
      "    \"base_fuzzy_precision\": 0.0,\n",
      "    \"base_fuzzy_recall\": 0.0,\n",
      "    \"base_fuzzy_f1\": 0.0,\n",
      "    \"tuned_accuracy\": 0.0,\n",
      "    \"tuned_precision\": 0.0,\n",
      "    \"tuned_recall\": 0.0,\n",
      "    \"tuned_f1\": 0.0,\n",
      "    \"tuned_fuzzy_accuracy\": 0.0,\n",
      "    \"tuned_fuzzy_precision\": 0.0,\n",
      "    \"tuned_fuzzy_recall\": 0.0,\n",
      "    \"tuned_fuzzy_f1\": 0.0,\n",
      "    \"tuned_win_loss_ratio\": 0.0,\n",
      "    \"base_win_loss_ratio\": 0.0\n",
      "  },\n",
      "  \"status\": \"COMPLETED\",\n",
      "  \"predictions\": [\n",
      "    {\n",
      "      \"input\": \"woof\",\n",
      "      \"target\": \"dog\",\n",
      "      \"test_output\": \"account_and_billing\",\n",
      "      \"base_output\": \"policy_details\"\n",
      "    },\n",
      "    {\n",
      "      \"input\": \"meow\",\n",
      "      \"target\": \"cat\",\n",
      "      \"test_output\": \"policy_details\",\n",
      "      \"base_output\": \"policy_details\"\n",
      "    }\n",
      "  ]\n",
      "}\n"
     ]
    }
   ],
   "source": [
    "print(\"Running comparison eval between model versions \" + first_model_id + \" and \" + second_model_id)\n",
    "\n",
    "eval_2 = LaminiOneEvaler(\n",
    "    test_model_id=first_model_id,\n",
    "    eval_data_id=f\"second_eval{random.randint(1000,9999)}\",\n",
    "    eval_data=[{\"input\": \"woof\", \"target\": \"dog\"}, {\"input\": \"meow\", \"target\": \"cat\"}],\n",
    "    test_eval_type=\"classifier\",\n",
    "    base_model_id=second_model_id,\n",
    "    sbs=True,\n",
    "    fuzzy=True,\n",
    ")\n",
    "\n",
    "print(json.dumps(eval_2.run(), indent=2))"
   ]
  },
  {
   "cell_type": "markdown",
   "metadata": {},
   "source": [
    "The eval output makes it easy to compare model versions overall, and to see exactly where the differences are, so you know exactly where to focus to improve your workflow.\n",
    "\n",
    "Happy classifying!"
   ]
  },
  {
   "cell_type": "markdown",
   "metadata": {},
   "source": []
  }
 ],
 "metadata": {
  "kernelspec": {
   "display_name": "lamini",
   "language": "python",
   "name": "python3"
  },
  "language_info": {
   "codemirror_mode": {
    "name": "ipython",
    "version": 3
   },
   "file_extension": ".py",
   "mimetype": "text/x-python",
   "name": "python",
   "nbconvert_exporter": "python",
   "pygments_lexer": "ipython3",
   "version": "3.10.6"
  }
 },
 "nbformat": 4,
 "nbformat_minor": 2
}
